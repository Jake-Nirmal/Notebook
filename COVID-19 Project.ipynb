{
 "cells": [
  {
   "cell_type": "markdown",
   "id": "cadfef63",
   "metadata": {},
   "source": [
    "# Introduction Of the Notebook"
   ]
  },
  {
   "cell_type": "markdown",
   "id": "4842bd0a",
   "metadata": {},
   "source": [
    "### Task 1 : Run the modules"
   ]
  },
  {
   "cell_type": "code",
   "execution_count": null,
   "id": "a9899dfe",
   "metadata": {},
   "outputs": [],
   "source": [
    "import pandas as PD\n",
    "import NumPy as np\n",
    "import plotly.express as px\n",
    "import matplotlib.pyplot as plt \n",
    "print('modules are imported')"
   ]
  },
  {
   "cell_type": "markdown",
   "id": "e62cf099",
   "metadata": {},
   "source": [
    "### Task 1.1 Creating the Dataset"
   ]
  },
  {
   "cell_type": "code",
   "execution_count": null,
   "id": "e38af1e9",
   "metadata": {},
   "outputs": [],
   "source": []
  },
  {
   "cell_type": "markdown",
   "id": "a7a945c7",
   "metadata": {},
   "source": [
    "### Task 1.2 : Check The Data Frame "
   ]
  },
  {
   "cell_type": "code",
   "execution_count": null,
   "id": "4302e4fc",
   "metadata": {},
   "outputs": [],
   "source": []
  },
  {
   "cell_type": "code",
   "execution_count": null,
   "id": "027e7fda",
   "metadata": {},
   "outputs": [],
   "source": []
  },
  {
   "cell_type": "markdown",
   "id": "6078a3e9",
   "metadata": {},
   "source": [
    "### Task 2.0 : Check the shape of the Data Frame"
   ]
  },
  {
   "cell_type": "code",
   "execution_count": null,
   "id": "4726bd7b",
   "metadata": {},
   "outputs": [],
   "source": []
  },
  {
   "cell_type": "markdown",
   "id": "0d887be8",
   "metadata": {},
   "source": [
    "### Task 2.1 : Let's do some preprocessesing"
   ]
  },
  {
   "cell_type": "code",
   "execution_count": null,
   "id": "2d05db34",
   "metadata": {},
   "outputs": [],
   "source": []
  },
  {
   "cell_type": "code",
   "execution_count": null,
   "id": "50e0ced2",
   "metadata": {},
   "outputs": [],
   "source": []
  },
  {
   "cell_type": "markdown",
   "id": "bf8ef11c",
   "metadata": {},
   "source": [
    "#### Let's see data related to a country for example India"
   ]
  },
  {
   "cell_type": "code",
   "execution_count": null,
   "id": "83144a30",
   "metadata": {},
   "outputs": [],
   "source": []
  },
  {
   "cell_type": "markdown",
   "id": "2e836eee",
   "metadata": {},
   "source": [
    "#### Let's see the global spread of COVID-19"
   ]
  },
  {
   "cell_type": "code",
   "execution_count": null,
   "id": "80576033",
   "metadata": {},
   "outputs": [],
   "source": []
  },
  {
   "cell_type": "markdown",
   "id": "55e2f49a",
   "metadata": {},
   "source": [
    "### Task 2.2 : Exercise"
   ]
  },
  {
   "cell_type": "markdown",
   "id": "9fae95ce",
   "metadata": {},
   "source": [
    "#### Let's see the global deaths of COVID-19"
   ]
  },
  {
   "cell_type": "code",
   "execution_count": null,
   "id": "54e30507",
   "metadata": {},
   "outputs": [],
   "source": []
  },
  {
   "cell_type": "markdown",
   "id": "e433ab38",
   "metadata": {},
   "source": [
    "### Task 3.1 :\n",
    "#### Let's visualize how intensive the COVID-19 transmission has been in each of the countries\n",
    "#### For example China"
   ]
  },
  {
   "cell_type": "code",
   "execution_count": null,
   "id": "4f926668",
   "metadata": {},
   "outputs": [],
   "source": []
  },
  {
   "cell_type": "markdown",
   "id": "0020dccf",
   "metadata": {},
   "source": [
    "#### Let's select the columns that we need"
   ]
  },
  {
   "cell_type": "code",
   "execution_count": null,
   "id": "2f6e97b2",
   "metadata": {},
   "outputs": [],
   "source": []
  },
  {
   "cell_type": "code",
   "execution_count": null,
   "id": "01b45e2b",
   "metadata": {},
   "outputs": [],
   "source": []
  },
  {
   "cell_type": "markdown",
   "id": "4cc8ff86",
   "metadata": {},
   "source": [
    "#### Caluculate the first deduction of the confirmed column"
   ]
  },
  {
   "cell_type": "code",
   "execution_count": null,
   "id": "245e416e",
   "metadata": {},
   "outputs": [],
   "source": []
  },
  {
   "cell_type": "code",
   "execution_count": null,
   "id": "973596e9",
   "metadata": {},
   "outputs": [],
   "source": []
  },
  {
   "cell_type": "code",
   "execution_count": null,
   "id": "65ff88c3",
   "metadata": {},
   "outputs": [],
   "source": []
  },
  {
   "cell_type": "code",
   "execution_count": null,
   "id": "2ba9a303",
   "metadata": {},
   "outputs": [],
   "source": []
  },
  {
   "cell_type": "markdown",
   "id": "839a4188",
   "metadata": {},
   "source": [
    "### Task 3.2 : \n",
    "#### Let's calculate the maximum infection rate for all the countries"
   ]
  },
  {
   "cell_type": "code",
   "execution_count": null,
   "id": "d4473850",
   "metadata": {},
   "outputs": [],
   "source": []
  },
  {
   "cell_type": "code",
   "execution_count": null,
   "id": "ee14fc0d",
   "metadata": {},
   "outputs": [],
   "source": []
  },
  {
   "cell_type": "markdown",
   "id": "3d495147",
   "metadata": {},
   "source": [
    "### Task 3.3 : \n",
    "#### Let's create a new dataframe"
   ]
  },
  {
   "cell_type": "code",
   "execution_count": null,
   "id": "2752c58b",
   "metadata": {},
   "outputs": [],
   "source": []
  },
  {
   "cell_type": "markdown",
   "id": "60722b5c",
   "metadata": {},
   "source": [
    "#### Let's plot the barchart : Maximum infection rate of each country"
   ]
  },
  {
   "cell_type": "code",
   "execution_count": null,
   "id": "c2a89a62",
   "metadata": {},
   "outputs": [],
   "source": []
  },
  {
   "cell_type": "markdown",
   "id": "7d565984",
   "metadata": {},
   "source": [
    "### Task 4 : Let's see how national lockdown impacts the COVID-19 transmission in Italy"
   ]
  },
  {
   "cell_type": "markdown",
   "id": "5f099d85",
   "metadata": {},
   "source": [
    "### COVID-19 Pandemic lockdown in Italy"
   ]
  },
  {
   "cell_type": "markdown",
   "id": "68a27216",
   "metadata": {},
   "source": [
    "COVID19 Pandemic locked down in Italy Starts on 9th of March\n",
    "the government off Italy under Prime Minister Giuseppe\n",
    "Conte imposed a national quarantine  restricting\n",
    "the movement of population except for necessity, work\n",
    "and health circumstances in response to the growing pandemic\n",
    "of COVID19 in the country"
   ]
  },
  {
   "cell_type": "code",
   "execution_count": 1,
   "id": "309f0c2e",
   "metadata": {},
   "outputs": [],
   "source": [
    "Italy_lockdown_start_date = '09-03-2020'\n",
    "Italy_lockdown_a_month_later = '09-04-2020'"
   ]
  },
  {
   "cell_type": "code",
   "execution_count": null,
   "id": "4c628a73",
   "metadata": {},
   "outputs": [],
   "source": [
    "df.head()"
   ]
  },
  {
   "cell_type": "markdown",
   "id": "22e24ae3",
   "metadata": {},
   "source": [
    "Let's get data related to italy"
   ]
  },
  {
   "cell_type": "code",
   "execution_count": null,
   "id": "b0945497",
   "metadata": {},
   "outputs": [],
   "source": []
  },
  {
   "cell_type": "markdown",
   "id": "572f1e2a",
   "metadata": {},
   "source": [
    "Let's check the data frame"
   ]
  },
  {
   "cell_type": "code",
   "execution_count": null,
   "id": "8df15caf",
   "metadata": {},
   "outputs": [],
   "source": []
  },
  {
   "cell_type": "markdown",
   "id": "49d0f7da",
   "metadata": {},
   "source": [
    "Let's calculate the infection rate in italy"
   ]
  },
  {
   "cell_type": "code",
   "execution_count": null,
   "id": "b27a5887",
   "metadata": {},
   "outputs": [],
   "source": []
  },
  {
   "cell_type": "markdown",
   "id": "a74f832c",
   "metadata": {},
   "source": [
    "Ok! Let's now do the visualization"
   ]
  },
  {
   "cell_type": "code",
   "execution_count": null,
   "id": "88786f9e",
   "metadata": {},
   "outputs": [],
   "source": []
  },
  {
   "cell_type": "markdown",
   "id": "193b106b",
   "metadata": {},
   "source": [
    "### Task 5 : Let's see how national lockdowns impact the COVID-19 death rate in italy"
   ]
  },
  {
   "cell_type": "code",
   "execution_count": null,
   "id": "52610416",
   "metadata": {},
   "outputs": [],
   "source": [
    "df_italy.head()"
   ]
  },
  {
   "cell_type": "markdown",
   "id": "725205e8",
   "metadata": {},
   "source": [
    "let's calculate the date rate"
   ]
  },
  {
   "cell_type": "code",
   "execution_count": null,
   "id": "c0dbc2fe",
   "metadata": {},
   "outputs": [],
   "source": []
  },
  {
   "cell_type": "markdown",
   "id": "22da166b",
   "metadata": {},
   "source": [
    "Let's check the data frame again"
   ]
  },
  {
   "cell_type": "code",
   "execution_count": null,
   "id": "7235ef44",
   "metadata": {},
   "outputs": [],
   "source": []
  },
  {
   "cell_type": "markdown",
   "id": "ceb7b9af",
   "metadata": {},
   "source": [
    "Now let's plot a line chart to compare COVID-19 national lockdowns impact on the spread of the virus and death rate"
   ]
  },
  {
   "cell_type": "code",
   "execution_count": null,
   "id": "45995371",
   "metadata": {},
   "outputs": [],
   "source": []
  },
  {
   "cell_type": "markdown",
   "id": "06181687",
   "metadata": {},
   "source": [
    "Let's normalize the columns"
   ]
  },
  {
   "cell_type": "code",
   "execution_count": null,
   "id": "490acab2",
   "metadata": {},
   "outputs": [],
   "source": []
  },
  {
   "cell_type": "markdown",
   "id": "fda6ec7d",
   "metadata": {},
   "source": [
    "let's plot the line chart again"
   ]
  },
  {
   "cell_type": "code",
   "execution_count": null,
   "id": "e8f9814f",
   "metadata": {},
   "outputs": [],
   "source": []
  },
  {
   "cell_type": "markdown",
   "id": "fb337ef2",
   "metadata": {},
   "source": [
    "## COVID-19 pandemic lockdown in Germany\n",
    "#### Lockdown was started in freiburg, Baden-Württemberg and Bavaria on the 20th of March 2020, three days later it was expanded to the whole Germany!"
   ]
  },
  {
   "cell_type": "code",
   "execution_count": 1,
   "id": "c8d7e92b",
   "metadata": {},
   "outputs": [],
   "source": [
    "Germany_lockdown_start_date = '09-03-2020'\n",
    "Germany_lockdown_a_month_later = '09-04-2020'"
   ]
  },
  {
   "cell_type": "code",
   "execution_count": null,
   "id": "4c628a73",
   "metadata": {},
   "outputs": [],
   "source": [
    "df.head()"
   ]
  },
  {
   "cell_type": "markdown",
   "id": "5d3deade",
   "metadata": {},
   "source": [
    "Let's get data related to Germany"
   ]
  },
  {
   "cell_type": "code",
   "execution_count": null,
   "id": "6e35ff72",
   "metadata": {},
   "outputs": [],
   "source": []
  },
  {
   "cell_type": "markdown",
   "id": "84438051",
   "metadata": {},
   "source": [
    "Let's check the data frame"
   ]
  },
  {
   "cell_type": "code",
   "execution_count": null,
   "id": "46f491f1",
   "metadata": {},
   "outputs": [],
   "source": []
  },
  {
   "cell_type": "markdown",
   "id": "fb835db3",
   "metadata": {},
   "source": [
    "Let's calculate the infection rate in Germany"
   ]
  },
  {
   "cell_type": "code",
   "execution_count": null,
   "id": "32447f89",
   "metadata": {},
   "outputs": [],
   "source": []
  },
  {
   "cell_type": "markdown",
   "id": "15296dd1",
   "metadata": {},
   "source": [
    "Ok! Let's now do the visualization"
   ]
  },
  {
   "cell_type": "code",
   "execution_count": null,
   "id": "1a308b06",
   "metadata": {},
   "outputs": [],
   "source": []
  }
 ],
 "metadata": {
  "kernelspec": {
   "display_name": "Python 3",
   "language": "python",
   "name": "python3"
  },
  "language_info": {
   "codemirror_mode": {
    "name": "ipython",
    "version": 3
   },
   "file_extension": ".py",
   "mimetype": "text/x-python",
   "name": "python",
   "nbconvert_exporter": "python",
   "pygments_lexer": "ipython3",
   "version": "3.8.8"
  }
 },
 "nbformat": 4,
 "nbformat_minor": 5
}
